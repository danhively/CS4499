{
  "nbformat": 4,
  "nbformat_minor": 0,
  "metadata": {
    "colab": {
      "provenance": [],
      "include_colab_link": true
    },
    "kernelspec": {
      "name": "python3",
      "display_name": "Python 3"
    }
  },
  "cells": [
    {
      "cell_type": "markdown",
      "metadata": {
        "id": "view-in-github",
        "colab_type": "text"
      },
      "source": [
        "<a href=\"https://colab.research.google.com/github/danhively/CS4499/blob/main/Mid_Project_Hively.ipynb\" target=\"_parent\"><img src=\"https://colab.research.google.com/assets/colab-badge.svg\" alt=\"Open In Colab\"/></a>"
      ]
    },
    {
      "cell_type": "markdown",
      "metadata": {
        "id": "BUObW5ghDCAf"
      },
      "source": [
        "# Mid-Project: Predicting Sports Winners\n",
        "Data Science and Applied Machine Learning \\\\\n",
        "Adpopted from material from Dr. Kerby \\\\\n",
        "Student Name: Dan Hively"
      ]
    },
    {
      "cell_type": "markdown",
      "metadata": {
        "id": "NY3xR1MFAXpT"
      },
      "source": [
        "### Question 1: Gather Data from 2021-2022\n",
        "*Gather* data from [Basketball Reference](https://www.basketball-reference.com/leagues/NBA_2022.html) <br>\n",
        "\n",
        "Data can be downloaded by clicking on the `Share and Export` drop-down list at the middle top of available tables. Start off by clicking `Schedule and Results` and downloading the monthly games tables. Combine these into one table. Then import the full games-results table into python. \n"
      ]
    },
    {
      "cell_type": "code",
      "metadata": {
        "id": "B1Z2YckpDCdb"
      },
      "source": [
        "# Imports\n",
        "import numpy as np\n",
        "import pandas as pd\n",
        "import matplotlib\n",
        "import matplotlib.pyplot as plt\n",
        "%matplotlib inline\n",
        "import math\n",
        "from sklearn.model_selection import train_test_split\n",
        "from sklearn.linear_model import LinearRegression\n",
        "from sklearn.metrics import mean_squared_error\n",
        "\n",
        "# Gather data\n",
        "fulldf = pd.read_csv('https://raw.github.com/danhively/CS4499/main/Mid-Poject/sportsref_download.csv')"
      ],
      "execution_count": 2,
      "outputs": []
    },
    {
      "cell_type": "markdown",
      "metadata": {
        "id": "GQlzygd-ElTB"
      },
      "source": [
        "### Question 2: EDA and Preprocessing\n",
        "Explore your dataset and make any preprocessing adjustments necessary. You must perform at least 3 operations on exploring your data. Each one must provide unqiue insight to the data. At the bottom of this problem, write a paragraph (at least 5 sentences) explaining what you did and found out. "
      ]
    },
    {
      "cell_type": "code",
      "metadata": {
        "id": "BTTyBz27RxAb",
        "colab": {
          "base_uri": "https://localhost:8080/"
        },
        "outputId": "885ef405-dfbd-4a99-a73b-cdf8869fbaa9"
      },
      "source": [
        "# Print some basic information about the dataset.\n",
        "# Print the shape of the DataFrame\n",
        "print('----------------------------')\n",
        "print('Shape')\n",
        "print('----------------------------')\n",
        "print(fulldf.shape)\n",
        "\n",
        "# Print some summary statistics of the DataFrame\n",
        "print('----------------------------')\n",
        "print('statistics')\n",
        "print('----------------------------')\n",
        "print(fulldf.describe())\n",
        "\n",
        "# Print the list of columns in the CSV file.\n",
        "print('----------------------------')\n",
        "print('Columns')\n",
        "print('----------------------------')\n",
        "print(fulldf.columns)\n",
        "\n",
        "# Print the first five rows of the DataFrame\n",
        "print('----------------------------')\n",
        "print('First 5 rows')\n",
        "print('----------------------------')\n",
        "print(fulldf.head())\n",
        "\n",
        "# Count the number of NaN values in each column\n",
        "print('----------------------------')\n",
        "print('Number of NaN values')\n",
        "print('----------------------------')\n",
        "nan_count = fulldf.isna().sum()\n",
        "print(nan_count)\n",
        "\n",
        "# Find columns with NaN values\n",
        "null_columns = fulldf.columns[fulldf.isna().any()].tolist()\n",
        "\n",
        "# Display column headings with null values\n",
        "print('----------------------------')\n",
        "print('Column headings with null values')\n",
        "print('----------------------------')\n",
        "print(null_columns)"
      ],
      "execution_count": 3,
      "outputs": [
        {
          "output_type": "stream",
          "name": "stdout",
          "text": [
            "----------------------------\n",
            "Shape\n",
            "----------------------------\n",
            "(1171, 11)\n",
            "----------------------------\n",
            "statistics\n",
            "----------------------------\n",
            "               PTS        PTS.1  Notes\n",
            "count  1171.000000  1171.000000    0.0\n",
            "mean    111.382579   112.558497    NaN\n",
            "std      12.563364    12.510739    NaN\n",
            "min      75.000000    73.000000    NaN\n",
            "25%     103.000000   104.000000    NaN\n",
            "50%     111.000000   112.000000    NaN\n",
            "75%     120.000000   121.000000    NaN\n",
            "max     154.000000   154.000000    NaN\n",
            "----------------------------\n",
            "Columns\n",
            "----------------------------\n",
            "Index(['Date', 'Start (ET)', 'Visitor/Neutral', 'PTS', 'Home/Neutral', 'PTS.1',\n",
            "       'Unnamed: 6', 'Unnamed: 7', 'Attend.', 'Arena', 'Notes'],\n",
            "      dtype='object')\n",
            "----------------------------\n",
            "First 5 rows\n",
            "----------------------------\n",
            "                Date Start (ET)        Visitor/Neutral  PTS  \\\n",
            "0  Tue, Dec 22, 2020      7:00p  Golden State Warriors   99   \n",
            "1  Tue, Dec 22, 2020     10:00p   Los Angeles Clippers  116   \n",
            "2  Wed, Dec 23, 2020      7:00p      Charlotte Hornets  114   \n",
            "3  Wed, Dec 23, 2020      7:00p        New York Knicks  107   \n",
            "4  Wed, Dec 23, 2020      7:00p             Miami Heat  107   \n",
            "\n",
            "          Home/Neutral  PTS.1 Unnamed: 6 Unnamed: 7 Attend.  \\\n",
            "0        Brooklyn Nets    125  Box Score        NaN       0   \n",
            "1   Los Angeles Lakers    109  Box Score        NaN       0   \n",
            "2  Cleveland Cavaliers    121  Box Score        NaN     300   \n",
            "3       Indiana Pacers    121  Box Score        NaN       0   \n",
            "4        Orlando Magic    113  Box Score        NaN   3,396   \n",
            "\n",
            "                        Arena  Notes  \n",
            "0             Barclays Center    NaN  \n",
            "1              STAPLES Center    NaN  \n",
            "2  Rocket Mortgage Fieldhouse    NaN  \n",
            "3     Bankers Life Fieldhouse    NaN  \n",
            "4                Amway Center    NaN  \n",
            "----------------------------\n",
            "Number of NaN values\n",
            "----------------------------\n",
            "Date                  0\n",
            "Start (ET)            0\n",
            "Visitor/Neutral       0\n",
            "PTS                   0\n",
            "Home/Neutral          0\n",
            "PTS.1                 0\n",
            "Unnamed: 6            0\n",
            "Unnamed: 7         1111\n",
            "Attend.               7\n",
            "Arena                 0\n",
            "Notes              1171\n",
            "dtype: int64\n",
            "----------------------------\n",
            "Column headings with null values\n",
            "----------------------------\n",
            "['Unnamed: 7', 'Attend.', 'Notes']\n"
          ]
        }
      ]
    },
    {
      "cell_type": "markdown",
      "metadata": {
        "id": "a5xtkc6wHoSr"
      },
      "source": [
        "### Question 3: Feature Engineering\n",
        "\n",
        "Create a column for whether or not the home team won the game; call it `HomeWin`. Use Pandas and your knowledge of Python to fill in this data. This will become our target -- ie what we are trying to predict. "
      ]
    },
    {
      "cell_type": "code",
      "metadata": {
        "id": "jVxGLY4uDCj5",
        "colab": {
          "base_uri": "https://localhost:8080/"
        },
        "outputId": "124654c2-208c-4b4f-e0cf-cfa50fcba440"
      },
      "source": [
        "# Create a copy of the fulldf DataFrame\n",
        "winsdf = fulldf.copy()\n",
        "\n",
        "# Add a new column 'HomeWin' to the winsdf DataFrame based on a condition\n",
        "winsdf['HomeWin'] = winsdf['PTS'] > winsdf['PTS']\n",
        "\n",
        "# Display the original DataFrame.\n",
        "#print(\"Original DataFrame (fulldf):\")\n",
        "#print(fulldf)\n",
        "\n",
        "# Display the new DataFrame with the added column.\n",
        "print(\"\\nNew DataFrame with 'HomeWin' column (winsdf):\")\n",
        "print(winsdf.columns)\n",
        "print(winsdf)"
      ],
      "execution_count": 4,
      "outputs": [
        {
          "output_type": "stream",
          "name": "stdout",
          "text": [
            "\n",
            "New DataFrame with 'HomeWin' column (winsdf):\n",
            "Index(['Date', 'Start (ET)', 'Visitor/Neutral', 'PTS', 'Home/Neutral', 'PTS.1',\n",
            "       'Unnamed: 6', 'Unnamed: 7', 'Attend.', 'Arena', 'Notes', 'HomeWin'],\n",
            "      dtype='object')\n",
            "                   Date Start (ET)        Visitor/Neutral  PTS  \\\n",
            "0     Tue, Dec 22, 2020      7:00p  Golden State Warriors   99   \n",
            "1     Tue, Dec 22, 2020     10:00p   Los Angeles Clippers  116   \n",
            "2     Wed, Dec 23, 2020      7:00p      Charlotte Hornets  114   \n",
            "3     Wed, Dec 23, 2020      7:00p        New York Knicks  107   \n",
            "4     Wed, Dec 23, 2020      7:00p             Miami Heat  107   \n",
            "...                 ...        ...                    ...  ...   \n",
            "1166   Thu, Jul 8, 2021      9:00p        Milwaukee Bucks  108   \n",
            "1167  Sun, Jul 11, 2021      8:00p           Phoenix Suns  100   \n",
            "1168  Wed, Jul 14, 2021      9:00p           Phoenix Suns  103   \n",
            "1169  Sat, Jul 17, 2021      9:00p        Milwaukee Bucks  123   \n",
            "1170  Tue, Jul 20, 2021      9:00p           Phoenix Suns   98   \n",
            "\n",
            "             Home/Neutral  PTS.1 Unnamed: 6 Unnamed: 7 Attend.  \\\n",
            "0           Brooklyn Nets    125  Box Score        NaN       0   \n",
            "1      Los Angeles Lakers    109  Box Score        NaN       0   \n",
            "2     Cleveland Cavaliers    121  Box Score        NaN     300   \n",
            "3          Indiana Pacers    121  Box Score        NaN       0   \n",
            "4           Orlando Magic    113  Box Score        NaN   3,396   \n",
            "...                   ...    ...        ...        ...     ...   \n",
            "1166         Phoenix Suns    118  Box Score        NaN  16,583   \n",
            "1167      Milwaukee Bucks    120  Box Score        NaN  16,637   \n",
            "1168      Milwaukee Bucks    109  Box Score        NaN  16,911   \n",
            "1169         Phoenix Suns    119  Box Score        NaN  16,562   \n",
            "1170      Milwaukee Bucks    105  Box Score        NaN  17,397   \n",
            "\n",
            "                           Arena  Notes  HomeWin  \n",
            "0                Barclays Center    NaN    False  \n",
            "1                 STAPLES Center    NaN    False  \n",
            "2     Rocket Mortgage Fieldhouse    NaN    False  \n",
            "3        Bankers Life Fieldhouse    NaN    False  \n",
            "4                   Amway Center    NaN    False  \n",
            "...                          ...    ...      ...  \n",
            "1166          Phoenix Suns Arena    NaN    False  \n",
            "1167                Fiserv Forum    NaN    False  \n",
            "1168                Fiserv Forum    NaN    False  \n",
            "1169          Phoenix Suns Arena    NaN    False  \n",
            "1170                Fiserv Forum    NaN    False  \n",
            "\n",
            "[1171 rows x 12 columns]\n"
          ]
        }
      ]
    },
    {
      "cell_type": "markdown",
      "metadata": {
        "id": "7l9si_prIwwa"
      },
      "source": [
        "### Question 4: Feature Engineering II\n",
        "Create two columns for how many games the home and visitor teams have won thus far in the season. Call them `HomeNumWins` and `VisitorNumWins`.\n",
        " \n",
        "For example Game 1 for the Utah Jazz was against the OKC Thunder. The Jazz were the home team, OKC was the road team. Since this is game 1 for both teams `HomeNumWins` and `VisitorNumWins` will be 0. The Jazz won this game and were the road team for their next game (against the Sacramento Kings),  `VisitorNumWins` should be a 1 for this value. OKC would go on to lose their second game (on the road to Houston), Game 3 was their first home game. So for OKC's 3rd game (against the 76ers) `HomeNumWins` would be 0. \n",
        "\n",
        "Hint: Store each team and the number of intial wins (0) in a Python dictionary. You can then increment this value as you go through the dataset and use this information to update your feature. \n",
        "\n"
      ]
    },
    {
      "cell_type": "code",
      "metadata": {
        "id": "lg-yhWC0DCnd",
        "colab": {
          "base_uri": "https://localhost:8080/",
          "height": 235
        },
        "outputId": "67804dae-7f41-4d33-ea81-61ecc1463114"
      },
      "source": [
        "# Note: As a hint I am leaving here code that adds two new columns on whether or \n",
        "# not the home and visitor teams won their last game.\n",
        "\n",
        "from collections import defaultdict\n",
        "won_last = defaultdict(int)\n",
        "sports['HomeLastWin'] = 0\n",
        "sports['VisitorLastWin'] = 0\n",
        "\n",
        "# Iterate through our dataset and calculate whether the home and/or visitor won their last game\n",
        "for index, row in sports.iterrows():\n",
        "  #print(index)\n",
        "  #print(row)\n",
        "  home_team = row['Home Team']\n",
        "  visitor_team = row['Visitor Team']\n",
        "  sports.loc[index,'HomeLastWin'] = won_last[home_team]\n",
        "  sports.loc[index,'VisitorLastWin'] = won_last[visitor_team]\n",
        "\n",
        "  won_last[home_team] = int(row['HomeWin'])\n",
        "  won_last[visitor_team] = 1 - int(row['HomeWin'])\n"
      ],
      "execution_count": 5,
      "outputs": [
        {
          "output_type": "error",
          "ename": "NameError",
          "evalue": "ignored",
          "traceback": [
            "\u001b[0;31m---------------------------------------------------------------------------\u001b[0m",
            "\u001b[0;31mNameError\u001b[0m                                 Traceback (most recent call last)",
            "\u001b[0;32m<ipython-input-5-36e66f75402f>\u001b[0m in \u001b[0;36m<module>\u001b[0;34m\u001b[0m\n\u001b[1;32m      4\u001b[0m \u001b[0;32mfrom\u001b[0m \u001b[0mcollections\u001b[0m \u001b[0;32mimport\u001b[0m \u001b[0mdefaultdict\u001b[0m\u001b[0;34m\u001b[0m\u001b[0;34m\u001b[0m\u001b[0m\n\u001b[1;32m      5\u001b[0m \u001b[0mwon_last\u001b[0m \u001b[0;34m=\u001b[0m \u001b[0mdefaultdict\u001b[0m\u001b[0;34m(\u001b[0m\u001b[0mint\u001b[0m\u001b[0;34m)\u001b[0m\u001b[0;34m\u001b[0m\u001b[0;34m\u001b[0m\u001b[0m\n\u001b[0;32m----> 6\u001b[0;31m \u001b[0msports\u001b[0m\u001b[0;34m[\u001b[0m\u001b[0;34m'HomeLastWin'\u001b[0m\u001b[0;34m]\u001b[0m \u001b[0;34m=\u001b[0m \u001b[0;36m0\u001b[0m\u001b[0;34m\u001b[0m\u001b[0;34m\u001b[0m\u001b[0m\n\u001b[0m\u001b[1;32m      7\u001b[0m \u001b[0msports\u001b[0m\u001b[0;34m[\u001b[0m\u001b[0;34m'VisitorLastWin'\u001b[0m\u001b[0;34m]\u001b[0m \u001b[0;34m=\u001b[0m \u001b[0;36m0\u001b[0m\u001b[0;34m\u001b[0m\u001b[0;34m\u001b[0m\u001b[0m\n\u001b[1;32m      8\u001b[0m \u001b[0;34m\u001b[0m\u001b[0m\n",
            "\u001b[0;31mNameError\u001b[0m: name 'sports' is not defined"
          ]
        }
      ]
    },
    {
      "cell_type": "code",
      "metadata": {
        "id": "_0Gy244sfV18"
      },
      "source": [
        "# Example with old, 2018-2019, season data\n",
        "import pandas as pd\n",
        "import numpy as np\n",
        "\n",
        "sports = pd.read_csv(\"https://gitlab.com/CEADS/DrKerby/python/-/raw/master/basketball.csv\")\n",
        "sports"
      ],
      "execution_count": null,
      "outputs": []
    },
    {
      "cell_type": "code",
      "metadata": {
        "id": "KO5psnHAc2tp"
      },
      "source": [
        "sports['Unnamed: 6'].unique()"
      ],
      "execution_count": null,
      "outputs": []
    },
    {
      "cell_type": "code",
      "metadata": {
        "id": "6IMMM0izn40s"
      },
      "source": [
        "sports['Unnamed: 7'].unique()"
      ],
      "execution_count": null,
      "outputs": []
    },
    {
      "cell_type": "code",
      "metadata": {
        "id": "UYv-NiAMn-AM"
      },
      "source": [
        "sports['Notes'].unique()"
      ],
      "execution_count": null,
      "outputs": []
    },
    {
      "cell_type": "code",
      "metadata": {
        "id": "pc1iRcHsi-UZ"
      },
      "source": [
        "from collections import defaultdict\n",
        "won_last = defaultdict(int)\n",
        "\n",
        "won_last\n",
        "# Create HomeWin column\n",
        "sports['HomeWin'] = sports['PTS.1'] > sports['PTS']\n",
        "sports.head()\n",
        "# Create new columns and initialize with zero\n",
        "sports['HomeLastWin'] = 0\n",
        "sports['VisitorLastWin'] = 0\n",
        "\n",
        "sports.head()\n",
        "\n",
        "# Take a slice first, sports[:5]\n",
        "for index, row in sports.iterrows():\n",
        "  #print(index, row['Home/Neutral'], row['PTS.1'])\n",
        "  home_team = row['Home/Neutral']\n",
        "  visitor_team = row['Visitor/Neutral']\n",
        "  sports.loc[index,'HomeLastWin'] = won_last[home_team]\n",
        "  sports.loc[index,'VisitorLastWin'] = won_last[visitor_team]\n",
        "\n",
        "  # Who won this game, to record it in the next game?\n",
        "  #print(int(row['HomeWin']))  # typecast boolean to int (false->0, true->1)\n",
        "  won_last[home_team] = int(row['HomeWin'])\n",
        "  won_last[visitor_team] = 1 - int(row['HomeWin'])\n",
        "\n",
        "sports.head(50)\n",
        "#type(sports['Date'][0])"
      ],
      "execution_count": null,
      "outputs": []
    },
    {
      "cell_type": "code",
      "metadata": {
        "id": "zWtO1qTxoCbf"
      },
      "source": [],
      "execution_count": null,
      "outputs": []
    },
    {
      "cell_type": "markdown",
      "metadata": {
        "id": "SvnTCgJIfTRT"
      },
      "source": [
        "### Question 5: Model\n",
        "\n",
        "Train a decision tree model to determine if the home team won (a 1 is a win and a 0 is a loss. Evaluate your model. At the bottom of this problem write 2 paragraphs explaining your models, its performance and any possible issues you see with it. Comment on the most \"important\" features in the model.\n",
        "\n",
        "Remember to split the dataset into training and testing sets and delete any columns that you deem unuseful. (Hint: Do not use any information that you wouldn't know before the game is played, the idea is to create a model that predicts wins)\n",
        "\n"
      ]
    },
    {
      "cell_type": "code",
      "metadata": {
        "id": "Rxjpy1rWIfc0"
      },
      "source": [],
      "execution_count": null,
      "outputs": []
    },
    {
      "cell_type": "markdown",
      "metadata": {
        "id": "BWWSx1qoT9He"
      },
      "source": [
        "### Question 6: Add data from the previous season\n",
        "Go back to the website and download the team standings from the PREVIOUS season. You will find it in the `Standings` tab. Keep just the number of wins and create two new columns called `HomeWins2020` and `VisitorWins2020`."
      ]
    },
    {
      "cell_type": "code",
      "metadata": {
        "id": "GULVrOrEIfhp"
      },
      "source": [],
      "execution_count": null,
      "outputs": []
    },
    {
      "cell_type": "markdown",
      "metadata": {
        "id": "9TQyljLzkY9n"
      },
      "source": [
        "### Question 7: Repeat Model\n",
        "\n",
        "Repeat your analysis from Question 5."
      ]
    },
    {
      "cell_type": "code",
      "metadata": {
        "id": "zF4Dt9XnUJvF"
      },
      "source": [],
      "execution_count": null,
      "outputs": []
    },
    {
      "cell_type": "markdown",
      "metadata": {
        "id": "kmD1osUakn5b"
      },
      "source": [
        "### Question 8: Analysis and Discussion\n",
        "What was your best-performing model? \\\\\n",
        "How well did it do? \\\\\n",
        "Was it overfit? \\\\\n",
        "What seems to be the most important feature(s)? \\\\\n",
        "How well did your model perform compared to blindly guessing the Home Team won?"
      ]
    },
    {
      "cell_type": "code",
      "metadata": {
        "id": "kEjduILvUJx9"
      },
      "source": [],
      "execution_count": null,
      "outputs": []
    },
    {
      "cell_type": "code",
      "source": [],
      "metadata": {
        "id": "CvObtZ4Q-4fb"
      },
      "execution_count": null,
      "outputs": []
    },
    {
      "cell_type": "code",
      "metadata": {
        "id": "dfrfuVk0vObY"
      },
      "source": [],
      "execution_count": null,
      "outputs": []
    },
    {
      "cell_type": "markdown",
      "metadata": {
        "id": "k0BAVebvXYdy"
      },
      "source": [
        "### GRADUATE STUDENTS ONLY\n",
        "Incorporate new data in at least two different ways: \\\\\n",
        "1) Go back to the website and incorporate more data (you choose which data to import; \\\\\n",
        "2) Feature engineer at least one more feature from the data you have.\n",
        "\n",
        "Repeat Question 5 modeling.\n",
        "\n",
        "Repeat Question 8 analysis."
      ]
    },
    {
      "cell_type": "code",
      "metadata": {
        "id": "sHg7e3fyUJ0C"
      },
      "source": [],
      "execution_count": null,
      "outputs": []
    },
    {
      "cell_type": "code",
      "metadata": {
        "id": "XhaRNBn7bA7u"
      },
      "source": [],
      "execution_count": null,
      "outputs": []
    }
  ]
}